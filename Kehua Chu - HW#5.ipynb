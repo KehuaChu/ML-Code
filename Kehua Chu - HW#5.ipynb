{
 "cells": [
  {
   "cell_type": "markdown",
   "id": "d058fdbe",
   "metadata": {},
   "source": [
    "### Kehua Chu (uid: 806153163)\n",
    "##### Due:  Thu, Feb 15, 6pm in Bruinlearn"
   ]
  },
  {
   "cell_type": "markdown",
   "id": "657f709f",
   "metadata": {},
   "source": [
    "### Import Module"
   ]
  },
  {
   "cell_type": "code",
   "execution_count": 1,
   "id": "a55aff92",
   "metadata": {},
   "outputs": [],
   "source": [
    "import numpy as np\n",
    "import matplotlib.pyplot as plt\n",
    "import pandas as pd\n",
    "import statsmodels.formula.api as smf\n",
    "import statsmodels.api as sm\n",
    "from sklearn.datasets import make_classification\n",
    "from sklearn.model_selection import train_test_split\n",
    "from sklearn.linear_model import LogisticRegression\n",
    "from sklearn.metrics import accuracy_score, confusion_matrix\n",
    "from imblearn.over_sampling import SMOTENC\n",
    "from sklearn.tree import DecisionTreeClassifier, plot_tree\n",
    "from sklearn.metrics import precision_score, recall_score, f1_score"
   ]
  },
  {
   "cell_type": "markdown",
   "id": "29ee8406",
   "metadata": {},
   "source": [
    "### Problem 2\n",
    "### The file card_transdata.csv contains data on 1,000,000 credit card transactions. The goal is to fit and test a model predicting whether a given transaction is fraudulent. Let the first 500,000 observations be the training set and the remaining observations be the test set.\n",
    "### Since the dataset contains both continuous and categorical features, while SMOTE can only handle continuous features, we use SMOTE-NC, a version of SMOTE that can handle both. In Python, use imblearn.over_sampling.SMOTENC. Do not forget to provide information about the categorical features to SMOTENC."
   ]
  },
  {
   "cell_type": "code",
   "execution_count": 2,
   "id": "0a4f69b2",
   "metadata": {
    "scrolled": true
   },
   "outputs": [
    {
     "data": {
      "text/html": [
       "<div>\n",
       "<style scoped>\n",
       "    .dataframe tbody tr th:only-of-type {\n",
       "        vertical-align: middle;\n",
       "    }\n",
       "\n",
       "    .dataframe tbody tr th {\n",
       "        vertical-align: top;\n",
       "    }\n",
       "\n",
       "    .dataframe thead th {\n",
       "        text-align: right;\n",
       "    }\n",
       "</style>\n",
       "<table border=\"1\" class=\"dataframe\">\n",
       "  <thead>\n",
       "    <tr style=\"text-align: right;\">\n",
       "      <th></th>\n",
       "      <th>distance_from_home</th>\n",
       "      <th>distance_from_last_transaction</th>\n",
       "      <th>ratio_to_median_purchase_price</th>\n",
       "      <th>repeat_retailer</th>\n",
       "      <th>used_chip</th>\n",
       "      <th>used_pin_number</th>\n",
       "      <th>online_order</th>\n",
       "      <th>fraud</th>\n",
       "    </tr>\n",
       "  </thead>\n",
       "  <tbody>\n",
       "    <tr>\n",
       "      <th>0</th>\n",
       "      <td>57.877857</td>\n",
       "      <td>0.311140</td>\n",
       "      <td>1.945940</td>\n",
       "      <td>1</td>\n",
       "      <td>1</td>\n",
       "      <td>0</td>\n",
       "      <td>0</td>\n",
       "      <td>0</td>\n",
       "    </tr>\n",
       "    <tr>\n",
       "      <th>1</th>\n",
       "      <td>10.829943</td>\n",
       "      <td>0.175592</td>\n",
       "      <td>1.294219</td>\n",
       "      <td>1</td>\n",
       "      <td>0</td>\n",
       "      <td>0</td>\n",
       "      <td>0</td>\n",
       "      <td>0</td>\n",
       "    </tr>\n",
       "    <tr>\n",
       "      <th>2</th>\n",
       "      <td>5.091079</td>\n",
       "      <td>0.805153</td>\n",
       "      <td>0.427715</td>\n",
       "      <td>1</td>\n",
       "      <td>0</td>\n",
       "      <td>0</td>\n",
       "      <td>1</td>\n",
       "      <td>0</td>\n",
       "    </tr>\n",
       "    <tr>\n",
       "      <th>3</th>\n",
       "      <td>2.247564</td>\n",
       "      <td>5.600044</td>\n",
       "      <td>0.362663</td>\n",
       "      <td>1</td>\n",
       "      <td>1</td>\n",
       "      <td>0</td>\n",
       "      <td>1</td>\n",
       "      <td>0</td>\n",
       "    </tr>\n",
       "    <tr>\n",
       "      <th>4</th>\n",
       "      <td>44.190936</td>\n",
       "      <td>0.566486</td>\n",
       "      <td>2.222767</td>\n",
       "      <td>1</td>\n",
       "      <td>1</td>\n",
       "      <td>0</td>\n",
       "      <td>1</td>\n",
       "      <td>0</td>\n",
       "    </tr>\n",
       "  </tbody>\n",
       "</table>\n",
       "</div>"
      ],
      "text/plain": [
       "   distance_from_home  distance_from_last_transaction  \\\n",
       "0           57.877857                        0.311140   \n",
       "1           10.829943                        0.175592   \n",
       "2            5.091079                        0.805153   \n",
       "3            2.247564                        5.600044   \n",
       "4           44.190936                        0.566486   \n",
       "\n",
       "   ratio_to_median_purchase_price  repeat_retailer  used_chip  \\\n",
       "0                        1.945940                1          1   \n",
       "1                        1.294219                1          0   \n",
       "2                        0.427715                1          0   \n",
       "3                        0.362663                1          1   \n",
       "4                        2.222767                1          1   \n",
       "\n",
       "   used_pin_number  online_order  fraud  \n",
       "0                0             0      0  \n",
       "1                0             0      0  \n",
       "2                0             1      0  \n",
       "3                0             1      0  \n",
       "4                0             1      0  "
      ]
     },
     "execution_count": 2,
     "metadata": {},
     "output_type": "execute_result"
    }
   ],
   "source": [
    "data = pd.read_csv('card_transdata-1.csv')\n",
    "data_copy = data.copy()\n",
    "data.head()"
   ]
  },
  {
   "cell_type": "code",
   "execution_count": 3,
   "id": "ab995c31",
   "metadata": {},
   "outputs": [
    {
     "name": "stdout",
     "output_type": "stream",
     "text": [
      "<class 'pandas.core.frame.DataFrame'>\n",
      "RangeIndex: 1000000 entries, 0 to 999999\n",
      "Data columns (total 8 columns):\n",
      " #   Column                          Non-Null Count    Dtype  \n",
      "---  ------                          --------------    -----  \n",
      " 0   distance_from_home              1000000 non-null  float64\n",
      " 1   distance_from_last_transaction  1000000 non-null  float64\n",
      " 2   ratio_to_median_purchase_price  1000000 non-null  float64\n",
      " 3   repeat_retailer                 1000000 non-null  int64  \n",
      " 4   used_chip                       1000000 non-null  int64  \n",
      " 5   used_pin_number                 1000000 non-null  int64  \n",
      " 6   online_order                    1000000 non-null  int64  \n",
      " 7   fraud                           1000000 non-null  int64  \n",
      "dtypes: float64(3), int64(5)\n",
      "memory usage: 61.0 MB\n"
     ]
    }
   ],
   "source": [
    "data.info()\n"
   ]
  },
  {
   "cell_type": "code",
   "execution_count": 4,
   "id": "9a3a69cb",
   "metadata": {},
   "outputs": [],
   "source": [
    "data_train = data[:500001]\n",
    "data_test = data[500001:]"
   ]
  },
  {
   "cell_type": "code",
   "execution_count": 5,
   "id": "123f9af5",
   "metadata": {},
   "outputs": [],
   "source": [
    "X_train = data_train.drop(columns = ['fraud'])\n",
    "X_test = data_test.drop(columns = ['fraud'])\n",
    "y_train = data_train['fraud']\n",
    "y_test = data_test['fraud']"
   ]
  },
  {
   "cell_type": "markdown",
   "id": "1049326f",
   "metadata": {},
   "source": [
    "### (i) For each 𝛾 ∈ {0.1, 0.2, … , 1}, oversample the training set with the desired ratio 𝛾 of the number of samples in the minority class over the number of samples in the majority class."
   ]
  },
  {
   "cell_type": "code",
   "execution_count": 6,
   "id": "bada2856",
   "metadata": {},
   "outputs": [],
   "source": [
    "# Identify minority and majority classes\n",
    "minority_class_count = y_train.sum()\n",
    "majority_class_count = len(y_train) - minority_class_count\n",
    "\n",
    "# Specify categorical features indices (assuming they are stored in a list)\n",
    "categorical_features_indices = [3,4,5,6]  # Update with the actual indices of categorical features\n"
   ]
  },
  {
   "cell_type": "code",
   "execution_count": 7,
   "id": "56bf7844",
   "metadata": {},
   "outputs": [
    {
     "name": "stdout",
     "output_type": "stream",
     "text": [
      "43667\n",
      "456334\n"
     ]
    }
   ],
   "source": [
    "print(minority_class_count)\n",
    "print(majority_class_count)"
   ]
  },
  {
   "cell_type": "code",
   "execution_count": 8,
   "id": "da0763c5",
   "metadata": {},
   "outputs": [],
   "source": [
    "def oversample(gamma):\n",
    "    num_samples_minority = int(gamma * majority_class_count)\n",
    "    smote_nc = SMOTENC(categorical_features=categorical_features_indices, sampling_strategy=gamma, random_state = 42)\n",
    "    X_train_resampled, y_train_resampled = smote_nc.fit_resample(X_train, y_train)\n",
    "\n",
    "    return X_train_resampled, y_train_resampled\n"
   ]
  },
  {
   "cell_type": "markdown",
   "id": "8afed3e4",
   "metadata": {},
   "source": [
    "### (ii) For each of the resulting oversampled datasets, fit a decision tree (with information gain as the feature selection criterion) and calculate its training and testing recall, precision, and 𝐹1 score."
   ]
  },
  {
   "cell_type": "code",
   "execution_count": 9,
   "id": "ee10fa0a",
   "metadata": {},
   "outputs": [],
   "source": [
    "def result(gamma):\n",
    "    \n",
    "    X_train_resampled, y_train_resampled = oversample(gamma)\n",
    "    \n",
    "    tree = DecisionTreeClassifier(criterion='entropy')\n",
    "    tree.fit(X_train_resampled, y_train_resampled)\n",
    "    \n",
    "    y_train_pred = tree.predict(X_train_resampled)\n",
    "    y_test_pred = tree.predict(X_test)\n",
    "    \n",
    "    train_recall = recall_score(y_train_resampled, y_train_pred)\n",
    "    test_recall = recall_score(y_test, y_test_pred)\n",
    "    print('Train recall:', train_recall)\n",
    "    print('Test recall:', test_recall)\n",
    "\n",
    "    train_precision = precision_score(y_train_resampled, y_train_pred)\n",
    "    test_precision = precision_score(y_test, y_test_pred)\n",
    "    print('Train precision:', train_precision)\n",
    "    print('Test precision:', test_precision)\n",
    "    \n",
    "    train_f1 = f1_score(y_train_resampled, y_train_pred)\n",
    "    test_f1 = f1_score(y_test, y_test_pred)\n",
    "    print('Train F1 Score:', train_f1)\n",
    "    print('Test F1 Score:', test_f1)\n",
    "\n",
    "    return\n",
    "    "
   ]
  },
  {
   "cell_type": "code",
   "execution_count": 11,
   "id": "9295ca57",
   "metadata": {},
   "outputs": [
    {
     "name": "stdout",
     "output_type": "stream",
     "text": [
      "\u001b[1mResults for gamma == 0.1\u001b[0m\n",
      "Train recall: 1.0\n",
      "Test recall: 0.9997027620267057\n",
      "Train precision: 1.0\n",
      "Test precision: 1.0\n",
      "Train F1 Score: 1.0\n",
      "Test F1 Score: 0.9998513589224665\n"
     ]
    }
   ],
   "source": [
    "print('\\033[1mResults for gamma == 0.1\\033[0m')\n",
    "result(0.1)"
   ]
  },
  {
   "cell_type": "code",
   "execution_count": 12,
   "id": "0322f39a",
   "metadata": {},
   "outputs": [
    {
     "name": "stdout",
     "output_type": "stream",
     "text": [
      "\u001b[1mResults for gamma == 0.2\u001b[0m\n",
      "Train recall: 1.0\n",
      "Test recall: 0.9997027620267057\n",
      "Train precision: 1.0\n",
      "Test precision: 0.9996341937401404\n",
      "Train F1 Score: 1.0\n",
      "Test F1 Score: 0.9996684767076308\n"
     ]
    }
   ],
   "source": [
    "print('\\033[1mResults for gamma == 0.2\\033[0m')\n",
    "result(0.2)"
   ]
  },
  {
   "cell_type": "code",
   "execution_count": 13,
   "id": "b409468b",
   "metadata": {},
   "outputs": [
    {
     "name": "stdout",
     "output_type": "stream",
     "text": [
      "\u001b[1mResults for gamma == 0.3\u001b[0m\n",
      "Train recall: 1.0\n",
      "Test recall: 0.9997027620267057\n",
      "Train precision: 1.0\n",
      "Test precision: 0.9995199341623994\n",
      "Train F1 Score: 1.0\n",
      "Test F1 Score: 0.9996113397347965\n"
     ]
    }
   ],
   "source": [
    "print('\\033[1mResults for gamma == 0.3\\033[0m')\n",
    "result(0.3)"
   ]
  },
  {
   "cell_type": "code",
   "execution_count": 14,
   "id": "af247f7e",
   "metadata": {},
   "outputs": [
    {
     "name": "stdout",
     "output_type": "stream",
     "text": [
      "\u001b[1mResults for gamma == 0.4\u001b[0m\n",
      "Train recall: 1.0\n",
      "Test recall: 0.9997484909456741\n",
      "Train precision: 1.0\n",
      "Test precision: 0.9993600438827052\n",
      "Train F1 Score: 1.0\n",
      "Test F1 Score: 0.9995542296745876\n"
     ]
    }
   ],
   "source": [
    "print('\\033[1mResults for gamma == 0.4\\033[0m')\n",
    "result(0.4)"
   ]
  },
  {
   "cell_type": "code",
   "execution_count": 15,
   "id": "8bbf446e",
   "metadata": {},
   "outputs": [
    {
     "name": "stdout",
     "output_type": "stream",
     "text": [
      "\u001b[1mResults for gamma == 0.5\u001b[0m\n",
      "Train recall: 1.0\n",
      "Test recall: 0.9997256264861899\n",
      "Train precision: 1.0\n",
      "Test precision: 0.9993143484024318\n",
      "Train F1 Score: 1.0\n",
      "Test F1 Score: 0.9995199451365872\n"
     ]
    }
   ],
   "source": [
    "print('\\033[1mResults for gamma == 0.5\\033[0m')\n",
    "result(0.5)"
   ]
  },
  {
   "cell_type": "code",
   "execution_count": 16,
   "id": "7b689890",
   "metadata": {},
   "outputs": [
    {
     "name": "stdout",
     "output_type": "stream",
     "text": [
      "\u001b[1mResults for gamma == 0.6\u001b[0m\n",
      "Train recall: 1.0\n",
      "Test recall: 0.9996798975672215\n",
      "Train precision: 1.0\n",
      "Test precision: 0.9990859649924592\n",
      "Train F1 Score: 1.0\n",
      "Test F1 Score: 0.9993828430364122\n"
     ]
    }
   ],
   "source": [
    "print('\\033[1mResults for gamma == 0.6\\033[0m')\n",
    "result(0.6)"
   ]
  },
  {
   "cell_type": "code",
   "execution_count": 17,
   "id": "c11ac922",
   "metadata": {},
   "outputs": [
    {
     "name": "stdout",
     "output_type": "stream",
     "text": [
      "\u001b[1mResults for gamma == 0.7\u001b[0m\n",
      "Train recall: 1.0\n",
      "Test recall: 0.9997713554051583\n",
      "Train precision: 1.0\n",
      "Test precision: 0.9986753151836287\n",
      "Train F1 Score: 1.0\n",
      "Test F1 Score: 0.9992230347349177\n"
     ]
    }
   ],
   "source": [
    "print('\\033[1mResults for gamma == 0.7\\033[0m')\n",
    "result(0.7)"
   ]
  },
  {
   "cell_type": "code",
   "execution_count": 18,
   "id": "c73b199e",
   "metadata": {},
   "outputs": [
    {
     "name": "stdout",
     "output_type": "stream",
     "text": [
      "\u001b[1mResults for gamma == 0.8\u001b[0m\n",
      "Train recall: 1.0\n",
      "Test recall: 0.9997027620267057\n",
      "Train precision: 1.0\n",
      "Test precision: 0.9989033835187682\n",
      "Train F1 Score: 1.0\n",
      "Test F1 Score: 0.9993029129098243\n"
     ]
    }
   ],
   "source": [
    "print('\\033[1mResults for gamma == 0.8\\033[0m')\n",
    "result(0.8)"
   ]
  },
  {
   "cell_type": "code",
   "execution_count": 19,
   "id": "3ecd3af2",
   "metadata": {},
   "outputs": [
    {
     "name": "stdout",
     "output_type": "stream",
     "text": [
      "\u001b[1mResults for gamma == 0.9\u001b[0m\n",
      "Train recall: 1.0\n",
      "Test recall: 0.9997027620267057\n",
      "Train precision: 1.0\n",
      "Test precision: 0.9988805629169332\n",
      "Train F1 Score: 1.0\n",
      "Test F1 Score: 0.9992914933491795\n"
     ]
    }
   ],
   "source": [
    "print('\\033[1mResults for gamma == 0.9\\033[0m')\n",
    "result(0.9)"
   ]
  },
  {
   "cell_type": "code",
   "execution_count": 20,
   "id": "efc0f72d",
   "metadata": {},
   "outputs": [
    {
     "name": "stdout",
     "output_type": "stream",
     "text": [
      "\u001b[1mResults for gamma == 1.0\u001b[0m\n",
      "Train recall: 1.0\n",
      "Test recall: 0.9997256264861899\n",
      "Train precision: 1.0\n",
      "Test precision: 0.9989490518620059\n",
      "Train F1 Score: 1.0\n",
      "Test F1 Score: 0.9993371883070875\n"
     ]
    }
   ],
   "source": [
    "print('\\033[1mResults for gamma == 1.0\\033[0m')\n",
    "result(1.0)"
   ]
  },
  {
   "cell_type": "markdown",
   "id": "176837a5",
   "metadata": {},
   "source": [
    "### (iii) Draw a plot of training and testing 𝐹1 score as functions of 𝛾. Does using SMOTE-NC improve the decision tree’s performance?"
   ]
  },
  {
   "cell_type": "code",
   "execution_count": 21,
   "id": "65c17aec",
   "metadata": {},
   "outputs": [
    {
     "data": {
      "image/png": "[encoded data removed]",
      "text/plain": [
       "<Figure size 640x480 with 1 Axes>"
      ]
     },
     "metadata": {},
     "output_type": "display_data"
    }
   ],
   "source": [
    "# Define a list of gamma values\n",
    "gammas = [0.1, 0.2, 0.3, 0.4, 0.5, 0.6, 0.7, 0.8, 0.9, 1.0]\n",
    "\n",
    "# Initialize lists to store training and testing F1 scores\n",
    "train_f1_scores = []\n",
    "test_f1_scores = []\n",
    "\n",
    "# Calculate F1 scores for each gamma value\n",
    "for gamma in gammas:\n",
    "    X_train_resampled, y_train_resampled = oversample(gamma)\n",
    "    tree = DecisionTreeClassifier(criterion='entropy')\n",
    "    tree.fit(X_train_resampled, y_train_resampled)\n",
    "    y_train_pred = tree.predict(X_train_resampled)\n",
    "    y_test_pred = tree.predict(X_test)\n",
    "    train_f1 = f1_score(y_train_resampled, y_train_pred)\n",
    "    test_f1 = f1_score(y_test, y_test_pred)\n",
    "    train_f1_scores.append(train_f1)\n",
    "    test_f1_scores.append(test_f1)\n",
    "\n",
    "# Plot the training and testing F1 scores\n",
    "plt.plot(gammas, train_f1_scores, label='Training F1 Score')\n",
    "plt.plot(gammas, test_f1_scores, label='Testing F1 Score')\n",
    "plt.xlabel('Gamma')\n",
    "plt.ylabel('F1 Score')\n",
    "plt.title('F1 Score vs. Gamma')\n",
    "plt.legend()\n",
    "plt.show()\n"
   ]
  },
  {
   "cell_type": "code",
   "execution_count": 10,
   "id": "9c76e25e",
   "metadata": {},
   "outputs": [
    {
     "name": "stdout",
     "output_type": "stream",
     "text": [
      "Train recall: 1.0\n",
      "Test recall: 0.9997027620267057\n",
      "Train precision: 1.0\n",
      "Test precision: 1.0\n",
      "Train F1 Score: 1.0\n",
      "Test F1 Score: 0.9998513589224665\n"
     ]
    }
   ],
   "source": [
    "# Original Dataset\n",
    "\n",
    "tree_original = DecisionTreeClassifier(criterion='entropy')\n",
    "tree_original.fit(X_train, y_train)\n",
    "\n",
    "y_train_pred = tree_original.predict(X_train)\n",
    "y_test_pred = tree_original.predict(X_test)\n",
    "\n",
    "train_recall = recall_score(y_train, y_train_pred)\n",
    "test_recall = recall_score(y_test, y_test_pred)\n",
    "print('Train recall:', train_recall)\n",
    "print('Test recall:', test_recall)\n",
    "\n",
    "train_precision = precision_score(y_train, y_train_pred)\n",
    "test_precision = precision_score(y_test, y_test_pred)\n",
    "print('Train precision:', train_precision)\n",
    "print('Test precision:', test_precision)\n",
    "\n",
    "train_f1 = f1_score(y_train, y_train_pred)\n",
    "test_f1 = f1_score(y_test, y_test_pred)\n",
    "print('Train F1 Score:', train_f1)\n",
    "print('Test F1 Score:', test_f1)"
   ]
  },
  {
   "cell_type": "markdown",
   "id": "847dbd5d",
   "metadata": {},
   "source": [
    "We could see from the graph that with the increase of gamma, although the training f1 score remains 1, testing f1 score decreases a little from around 0.9999 to 0.9993, and rises again after gamma == 0.7. This indicates that after doing SMOTE-NC, our model may suffer from overfitting, which is pretty bad. And looking at the tesing f1 score of original dataset (without oversampling), it's higher than any f1 score after using SMOTE-NC, meaning that SMOTE-NC doesn't improve the decision tree’s performance."
   ]
  }
 ],
 "metadata": {
  "kernelspec": {
   "display_name": "Python 3 (ipykernel)",
   "language": "python",
   "name": "python3"
  },
  "language_info": {
   "codemirror_mode": {
    "name": "ipython",
    "version": 3
   },
   "file_extension": ".py",
   "mimetype": "text/x-python",
   "name": "python",
   "nbconvert_exporter": "python",
   "pygments_lexer": "ipython3",
   "version": "3.11.5"
  }
 },
 "nbformat": 4,
 "nbformat_minor": 5
}

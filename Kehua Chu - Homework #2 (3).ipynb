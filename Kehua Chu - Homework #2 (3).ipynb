{
 "cells": [
  {
   "cell_type": "markdown",
   "id": "adc3b5b7",
   "metadata": {},
   "source": [
    "### Kehua Chu (UID: 806153163)"
   ]
  },
  {
   "cell_type": "markdown",
   "id": "516497cd",
   "metadata": {},
   "source": [
    "### Import Modules"
   ]
  },
  {
   "cell_type": "code",
   "execution_count": 2,
   "id": "719212a5",
   "metadata": {},
   "outputs": [],
   "source": [
    "import numpy as np\n",
    "import yfinance as yf\n",
    "import matplotlib.pyplot as plt\n",
    "import pandas as pd\n",
    "import datetime\n",
    "import io\n",
    "import datetime\n",
    "import matplotlib.lines as mlines\n",
    "from fredapi import Fred\n",
    "import statsmodels.formula.api as smf\n",
    "import datetime\n",
    "import matplotlib.pyplot as plt\n",
    "import statsmodels.api as sm\n",
    "from sklearn.model_selection import LeaveOneOut\n",
    "from sklearn.model_selection import train_test_split\n",
    "from sklearn.linear_model import LinearRegression, LogisticRegression\n",
    "from sklearn.metrics import mean_squared_error\n",
    "from simple_colors import *\n",
    "from sklearn.metrics import accuracy_score, precision_score, recall_score, f1_score\n",
    "from sklearn.datasets import make_classification\n",
    "from sklearn.metrics import classification_report, confusion_matrix"
   ]
  },
  {
   "cell_type": "markdown",
   "id": "61b88327",
   "metadata": {},
   "source": [
    "### Problem 3.\n",
    "### This problem uses the Weekly.csv dataset (uploaded on Bruinlearn) containing 1089 weekly stock returns for 21 years"
   ]
  },
  {
   "cell_type": "code",
   "execution_count": 9,
   "id": "1a1d017e",
   "metadata": {},
   "outputs": [
    {
     "data": {
      "text/html": [
       "<div>\n",
       "<style scoped>\n",
       "    .dataframe tbody tr th:only-of-type {\n",
       "        vertical-align: middle;\n",
       "    }\n",
       "\n",
       "    .dataframe tbody tr th {\n",
       "        vertical-align: top;\n",
       "    }\n",
       "\n",
       "    .dataframe thead th {\n",
       "        text-align: right;\n",
       "    }\n",
       "</style>\n",
       "<table border=\"1\" class=\"dataframe\">\n",
       "  <thead>\n",
       "    <tr style=\"text-align: right;\">\n",
       "      <th></th>\n",
       "      <th>Year</th>\n",
       "      <th>Lag1</th>\n",
       "      <th>Lag2</th>\n",
       "      <th>Lag3</th>\n",
       "      <th>Lag4</th>\n",
       "      <th>Lag5</th>\n",
       "      <th>Volume</th>\n",
       "      <th>Today</th>\n",
       "      <th>Direction</th>\n",
       "    </tr>\n",
       "  </thead>\n",
       "  <tbody>\n",
       "    <tr>\n",
       "      <th>0</th>\n",
       "      <td>1990</td>\n",
       "      <td>0.816</td>\n",
       "      <td>1.572</td>\n",
       "      <td>-3.936</td>\n",
       "      <td>-0.229</td>\n",
       "      <td>-3.484</td>\n",
       "      <td>0.154976</td>\n",
       "      <td>-0.270</td>\n",
       "      <td>Down</td>\n",
       "    </tr>\n",
       "    <tr>\n",
       "      <th>1</th>\n",
       "      <td>1990</td>\n",
       "      <td>-0.270</td>\n",
       "      <td>0.816</td>\n",
       "      <td>1.572</td>\n",
       "      <td>-3.936</td>\n",
       "      <td>-0.229</td>\n",
       "      <td>0.148574</td>\n",
       "      <td>-2.576</td>\n",
       "      <td>Down</td>\n",
       "    </tr>\n",
       "    <tr>\n",
       "      <th>2</th>\n",
       "      <td>1990</td>\n",
       "      <td>-2.576</td>\n",
       "      <td>-0.270</td>\n",
       "      <td>0.816</td>\n",
       "      <td>1.572</td>\n",
       "      <td>-3.936</td>\n",
       "      <td>0.159837</td>\n",
       "      <td>3.514</td>\n",
       "      <td>Up</td>\n",
       "    </tr>\n",
       "    <tr>\n",
       "      <th>3</th>\n",
       "      <td>1990</td>\n",
       "      <td>3.514</td>\n",
       "      <td>-2.576</td>\n",
       "      <td>-0.270</td>\n",
       "      <td>0.816</td>\n",
       "      <td>1.572</td>\n",
       "      <td>0.161630</td>\n",
       "      <td>0.712</td>\n",
       "      <td>Up</td>\n",
       "    </tr>\n",
       "    <tr>\n",
       "      <th>4</th>\n",
       "      <td>1990</td>\n",
       "      <td>0.712</td>\n",
       "      <td>3.514</td>\n",
       "      <td>-2.576</td>\n",
       "      <td>-0.270</td>\n",
       "      <td>0.816</td>\n",
       "      <td>0.153728</td>\n",
       "      <td>1.178</td>\n",
       "      <td>Up</td>\n",
       "    </tr>\n",
       "    <tr>\n",
       "      <th>5</th>\n",
       "      <td>1990</td>\n",
       "      <td>1.178</td>\n",
       "      <td>0.712</td>\n",
       "      <td>3.514</td>\n",
       "      <td>-2.576</td>\n",
       "      <td>-0.270</td>\n",
       "      <td>0.154444</td>\n",
       "      <td>-1.372</td>\n",
       "      <td>Down</td>\n",
       "    </tr>\n",
       "    <tr>\n",
       "      <th>6</th>\n",
       "      <td>1990</td>\n",
       "      <td>-1.372</td>\n",
       "      <td>1.178</td>\n",
       "      <td>0.712</td>\n",
       "      <td>3.514</td>\n",
       "      <td>-2.576</td>\n",
       "      <td>0.151722</td>\n",
       "      <td>0.807</td>\n",
       "      <td>Up</td>\n",
       "    </tr>\n",
       "    <tr>\n",
       "      <th>7</th>\n",
       "      <td>1990</td>\n",
       "      <td>0.807</td>\n",
       "      <td>-1.372</td>\n",
       "      <td>1.178</td>\n",
       "      <td>0.712</td>\n",
       "      <td>3.514</td>\n",
       "      <td>0.132310</td>\n",
       "      <td>0.041</td>\n",
       "      <td>Up</td>\n",
       "    </tr>\n",
       "    <tr>\n",
       "      <th>8</th>\n",
       "      <td>1990</td>\n",
       "      <td>0.041</td>\n",
       "      <td>0.807</td>\n",
       "      <td>-1.372</td>\n",
       "      <td>1.178</td>\n",
       "      <td>0.712</td>\n",
       "      <td>0.143972</td>\n",
       "      <td>1.253</td>\n",
       "      <td>Up</td>\n",
       "    </tr>\n",
       "    <tr>\n",
       "      <th>9</th>\n",
       "      <td>1990</td>\n",
       "      <td>1.253</td>\n",
       "      <td>0.041</td>\n",
       "      <td>0.807</td>\n",
       "      <td>-1.372</td>\n",
       "      <td>1.178</td>\n",
       "      <td>0.133635</td>\n",
       "      <td>-2.678</td>\n",
       "      <td>Down</td>\n",
       "    </tr>\n",
       "  </tbody>\n",
       "</table>\n",
       "</div>"
      ],
      "text/plain": [
       "   Year   Lag1   Lag2   Lag3   Lag4   Lag5    Volume  Today Direction\n",
       "0  1990  0.816  1.572 -3.936 -0.229 -3.484  0.154976 -0.270      Down\n",
       "1  1990 -0.270  0.816  1.572 -3.936 -0.229  0.148574 -2.576      Down\n",
       "2  1990 -2.576 -0.270  0.816  1.572 -3.936  0.159837  3.514        Up\n",
       "3  1990  3.514 -2.576 -0.270  0.816  1.572  0.161630  0.712        Up\n",
       "4  1990  0.712  3.514 -2.576 -0.270  0.816  0.153728  1.178        Up\n",
       "5  1990  1.178  0.712  3.514 -2.576 -0.270  0.154444 -1.372      Down\n",
       "6  1990 -1.372  1.178  0.712  3.514 -2.576  0.151722  0.807        Up\n",
       "7  1990  0.807 -1.372  1.178  0.712  3.514  0.132310  0.041        Up\n",
       "8  1990  0.041  0.807 -1.372  1.178  0.712  0.143972  1.253        Up\n",
       "9  1990  1.253  0.041  0.807 -1.372  1.178  0.133635 -2.678      Down"
      ]
     },
     "execution_count": 9,
     "metadata": {},
     "output_type": "execute_result"
    }
   ],
   "source": [
    "data = pd.read_csv('Weekly.csv')\n",
    "data.head(10)"
   ]
  },
  {
   "cell_type": "markdown",
   "id": "793c5402",
   "metadata": {},
   "source": [
    "### a) Use the full dataset to fit a logistic regression of today’s stock movement (up or down) on the five lags of returns and the trading volume."
   ]
  },
  {
   "cell_type": "code",
   "execution_count": 26,
   "id": "c5d9ed81",
   "metadata": {},
   "outputs": [
    {
     "name": "stdout",
     "output_type": "stream",
     "text": [
      "Optimization terminated successfully.\n",
      "         Current function value: 0.682441\n",
      "         Iterations 4\n",
      "                           Logit Regression Results                           \n",
      "==============================================================================\n",
      "Dep. Variable:                     Up   No. Observations:                 1089\n",
      "Model:                          Logit   Df Residuals:                     1082\n",
      "Method:                           MLE   Df Model:                            6\n",
      "Date:                Sun, 21 Jan 2024   Pseudo R-squ.:                0.006580\n",
      "Time:                        16:52:32   Log-Likelihood:                -743.18\n",
      "converged:                       True   LL-Null:                       -748.10\n",
      "Covariance Type:            nonrobust   LLR p-value:                    0.1313\n",
      "==============================================================================\n",
      "                 coef    std err          z      P>|z|      [0.025      0.975]\n",
      "------------------------------------------------------------------------------\n",
      "const          0.2669      0.086      3.106      0.002       0.098       0.435\n",
      "Lag1          -0.0413      0.026     -1.563      0.118      -0.093       0.010\n",
      "Lag2           0.0584      0.027      2.175      0.030       0.006       0.111\n",
      "Lag3          -0.0161      0.027     -0.602      0.547      -0.068       0.036\n",
      "Lag4          -0.0278      0.026     -1.050      0.294      -0.080       0.024\n",
      "Lag5          -0.0145      0.026     -0.549      0.583      -0.066       0.037\n",
      "Volume        -0.0227      0.037     -0.616      0.538      -0.095       0.050\n",
      "==============================================================================\n"
     ]
    }
   ],
   "source": [
    "X = data[['Lag1', 'Lag2', 'Lag3', 'Lag4', 'Lag5', 'Volume']]\n",
    "y = data['Direction']\n",
    "\n",
    "y_binary = pd.get_dummies(y, drop_first=True)\n",
    "\n",
    "X = sm.add_constant(X)\n",
    "\n",
    "model = sm.Logit(y_binary, X)\n",
    "result = model.fit()\n",
    "\n",
    "print(result.summary())"
   ]
  },
  {
   "cell_type": "markdown",
   "id": "4df4a4d3",
   "metadata": {},
   "source": [
    "### (b) Calculate the confusion matrix, accuracy, precision, recall, and F1 score for the in-sample predictions. Does the model uniformly beat random guessing in terms of these performance metrics?"
   ]
  },
  {
   "cell_type": "code",
   "execution_count": 34,
   "id": "1e8f1f61",
   "metadata": {},
   "outputs": [
    {
     "data": {
      "image/png": "[encoded data removed]",
      "text/plain": [
       "<Figure size 200x200 with 1 Axes>"
      ]
     },
     "metadata": {},
     "output_type": "display_data"
    },
    {
     "name": "stdout",
     "output_type": "stream",
     "text": [
      "[[ 54 430]\n",
      " [ 48 557]]\n",
      "Accuracy = 0.5610651974288338\n",
      "Precision =  0.5643363728470111\n",
      "Recall =  0.9206611570247933\n",
      "F1 =  0.6997487437185929\n"
     ]
    }
   ],
   "source": [
    "# Use 0.5 as threshold \n",
    "y_pred = result.predict(X) > 0.5  \n",
    "\n",
    "cm = confusion_matrix(y_binary, y_pred)\n",
    "fig, ax = plt.subplots(figsize=(2, 2))\n",
    "ax.matshow(cm, cmap=plt.cm.Reds, alpha=0.3)\n",
    "for i in range(cm.shape[0]):\n",
    "    for j in range(cm.shape[1]):\n",
    "        ax.text(x=j, y=i,\n",
    "        s=cm[i, j],\n",
    "        va='center', ha='center')\n",
    "plt.xlabel('predicted label')\n",
    "plt.ylabel('true label')\n",
    "plt.show()\n",
    "\n",
    "\n",
    "Accuracy = accuracy_score(y_binary, y_pred)\n",
    "Precision = precision_score(y_binary, y_pred)\n",
    "Recall = recall_score(y_binary, y_pred)\n",
    "F1 = f1_score(y_binary, y_pred)\n",
    "\n",
    "print(cm)\n",
    "print('Accuracy =', Accuracy)\n",
    "print('Precision = ', Precision)\n",
    "print('Recall = ', Recall)\n",
    "print('F1 = ', F1)\n"
   ]
  },
  {
   "cell_type": "markdown",
   "id": "d1a8ef0c",
   "metadata": {},
   "source": [
    "Yes, the model uniformly beat random guessing in terms of these performance metrics.\n",
    "\n",
    "As is mentioned in $Problem2$, the random guessing would lead to the accuracy = 0.5, precision = 0.5, recall = 0.5 and F1 score = 0.5, while our results all exceed these results. So we could conclude that our logistic model shows improvements in terms of accuracy, precision, recall, and F1 score compared to random guessing."
   ]
  },
  {
   "cell_type": "markdown",
   "id": "1af1d310",
   "metadata": {},
   "source": [
    "### (c) On the same graph, plot precision and recall against the threshold (varying over [0, 1]) used to generate predicted labels from predicted probabilities. Explain the pattern you see."
   ]
  },
  {
   "cell_type": "code",
   "execution_count": 63,
   "id": "e272f26a",
   "metadata": {
    "scrolled": false
   },
   "outputs": [
    {
     "data": {
      "image/png": "[encoded data removed]",
      "text/plain": [
       "<Figure size 1000x600 with 1 Axes>"
      ]
     },
     "metadata": {},
     "output_type": "display_data"
    }
   ],
   "source": [
    "predicted_probabilities = result.predict(X)\n",
    "\n",
    "thresholds = np.linspace(0, 1, 100)\n",
    "\n",
    "precisions = []\n",
    "recalls = []\n",
    "\n",
    "for threshold in thresholds:\n",
    "\n",
    "    predicted_labels = (predicted_probabilities > threshold).astype(int)\n",
    "    \n",
    "    precision = precision_score(y_binary, predicted_labels, zero_division=0)\n",
    "    recall = recall_score(y_binary, predicted_labels)\n",
    "    \n",
    "    precisions.append(precision)\n",
    "    recalls.append(recall)\n",
    "\n",
    "\n",
    "plt.figure(figsize = (10,6))\n",
    "plt.plot(thresholds, precisions, label='Precision', color = 'pink')\n",
    "plt.plot(thresholds, recalls, label='Recall', color = 'purple', linestyle = '--')\n",
    "plt.xlabel('Threshold')\n",
    "plt.ylabel('Score')\n",
    "plt.legend()\n",
    "plt.show()"
   ]
  },
  {
   "cell_type": "markdown",
   "id": "81466468",
   "metadata": {},
   "source": [
    "The pattern I obeserved is as followed:\n",
    "\n",
    "1. When the threshold is relatively low (approximately below 0.45), all the samples are classified to positive, so that the recall is around 1; while the threshold increases, the recall decreases simultanously since more and more samples are recognized as FN. And finally, all samples are classified as negative, which results in the recall of 0.\n",
    "\n",
    "2. As for precision, it's relatively high at first because the model classifies most samples as positive, and in reality, the majority may be positive. However, as the threshold increases, the model demands a higher probability for predicting positive, causing some true positives to be missed, leading to a decrease in precision.\n",
    "\n",
    "3. As for the turbulence in precision curve, it's may because there is some discontinuous distribution of probabilities assigned by the model for positive class predictions, causing minor changes in the threshold to result in a significant loss of true positives."
   ]
  },
  {
   "cell_type": "markdown",
   "id": "1c462516",
   "metadata": {},
   "source": [
    "### (d) Now fit the logistic regression using only data up to (and including) the year 2008, with Lag2 as the only predictor."
   ]
  },
  {
   "cell_type": "code",
   "execution_count": 12,
   "id": "5bec1eae",
   "metadata": {},
   "outputs": [
    {
     "name": "stdout",
     "output_type": "stream",
     "text": [
      "Optimization terminated successfully.\n",
      "         Current function value: 0.685555\n",
      "         Iterations 4\n",
      "                           Logit Regression Results                           \n",
      "==============================================================================\n",
      "Dep. Variable:                     Up   No. Observations:                  985\n",
      "Model:                          Logit   Df Residuals:                      983\n",
      "Method:                           MLE   Df Model:                            1\n",
      "Date:                Sun, 21 Jan 2024   Pseudo R-squ.:                0.003076\n",
      "Time:                        23:55:13   Log-Likelihood:                -675.27\n",
      "converged:                       True   LL-Null:                       -677.35\n",
      "Covariance Type:            nonrobust   LLR p-value:                   0.04123\n",
      "==============================================================================\n",
      "                 coef    std err          z      P>|z|      [0.025      0.975]\n",
      "------------------------------------------------------------------------------\n",
      "const          0.2033      0.064      3.162      0.002       0.077       0.329\n",
      "Lag2           0.0581      0.029      2.024      0.043       0.002       0.114\n",
      "==============================================================================\n"
     ]
    }
   ],
   "source": [
    "data_2008 = data[data['Year'] <= 2008]\n",
    "\n",
    "X = data_2008[['Lag2']]\n",
    "y = data_2008['Direction']\n",
    "\n",
    "y_binary2 = pd.get_dummies(y, drop_first=True)\n",
    "\n",
    "X = sm.add_constant(X)\n",
    "\n",
    "model2 = sm.Logit(y_binary2, X)\n",
    "result2 = model2.fit()\n",
    "\n",
    "print(result2.summary())"
   ]
  },
  {
   "cell_type": "markdown",
   "id": "e7b795ee",
   "metadata": {},
   "source": [
    "### (e) Repeat (b) using the remaining observations as a test sample."
   ]
  },
  {
   "cell_type": "code",
   "execution_count": 18,
   "id": "42f0ff42",
   "metadata": {},
   "outputs": [
    {
     "data": {
      "image/png": "[encoded data removed]",
      "text/plain": [
       "<Figure size 200x200 with 1 Axes>"
      ]
     },
     "metadata": {},
     "output_type": "display_data"
    },
    {
     "name": "stdout",
     "output_type": "stream",
     "text": [
      "Confusion Matrix:\n",
      " [[ 9 34]\n",
      " [ 5 56]]\n",
      "Accuracy: 0.625\n",
      "Precision: 0.6222222222222222\n",
      "Recall: 0.9180327868852459\n",
      "F1: 0.7417218543046358\n"
     ]
    }
   ],
   "source": [
    "test = data[data['Year'] > 2008]\n",
    "\n",
    "X_test = test[['Lag2']]\n",
    "y_test = test['Direction']\n",
    "y_test = pd.get_dummies(y_test, drop_first=True)\n",
    "\n",
    "\n",
    "X_test = sm.add_constant(X_test)\n",
    "\n",
    "test_predictions = result2.predict(X_test) > 0.5\n",
    "\n",
    "cm = confusion_matrix(y_test, test_predictions)\n",
    "fig, ax = plt.subplots(figsize=(2, 2))\n",
    "ax.matshow(cm, cmap=plt.cm.Reds, alpha=0.3)\n",
    "for i in range(cm.shape[0]):\n",
    "    for j in range(cm.shape[1]):\n",
    "        ax.text(x=j, y=i,\n",
    "        s=cm[i, j],\n",
    "        va='center', ha='center')\n",
    "plt.xlabel('predicted label')\n",
    "plt.ylabel('true label')\n",
    "plt.show()\n",
    "\n",
    "\n",
    "accuracy = accuracy_score(y_test, test_predictions)\n",
    "precision = precision_score(y_test, test_predictions)\n",
    "recall = recall_score(y_test, test_predictions)\n",
    "f1 = f1_score(y_test, test_predictions)\n",
    "\n",
    "# Print out the metrics\n",
    "print('Confusion Matrix:\\n', conf_matrix)\n",
    "print('Accuracy:', accuracy)\n",
    "print('Precision:', precision)\n",
    "print('Recall:', recall)\n",
    "print('F1:', f1)"
   ]
  },
  {
   "cell_type": "markdown",
   "id": "e802b94c",
   "metadata": {},
   "source": [
    "This model beats the random guessing as well, since its accuracy, precision, recall and F1 score are all higher than 50% (the results of random guessing model)."
   ]
  },
  {
   "cell_type": "markdown",
   "id": "edd55d6e",
   "metadata": {},
   "source": [
    "### (f) Which of the two fitted models would you use for real-time stock return prediction?"
   ]
  },
  {
   "cell_type": "markdown",
   "id": "3b6ba0c1",
   "metadata": {},
   "source": [
    "I would prefer the second model because it has higher accuracy, precision, recall and F1 scores. It makes sense because it only includes Lag2, and from economic intuition we could say that the stock return prediction should be affected mostly by the recent stock return information."
   ]
  }
 ],
 "metadata": {
  "kernelspec": {
   "display_name": "Python 3 (ipykernel)",
   "language": "python",
   "name": "python3"
  },
  "language_info": {
   "codemirror_mode": {
    "name": "ipython",
    "version": 3
   },
   "file_extension": ".py",
   "mimetype": "text/x-python",
   "name": "python",
   "nbconvert_exporter": "python",
   "pygments_lexer": "ipython3",
   "version": "3.11.5"
  }
 },
 "nbformat": 4,
 "nbformat_minor": 5
}
